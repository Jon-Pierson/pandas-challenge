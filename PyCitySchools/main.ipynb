{
 "cells": [
  {
   "cell_type": "code",
   "execution_count": 5,
   "metadata": {},
   "outputs": [],
   "source": [
    "# Dependencies: pandas, numpy, pathlib\n",
    "import pandas as pd\n",
    "import numpy as np\n",
    "from pathlib import Path"
   ]
  },
  {
   "cell_type": "code",
   "execution_count": 7,
   "metadata": {},
   "outputs": [
    {
     "name": "stdout",
     "output_type": "stream",
     "text": [
      "True\n"
     ]
    }
   ],
   "source": [
    "# Define the path schools_complete.csv and ensure the path is correct\n",
    "school_data_path = Path('Resources/schools_complete.csv')\n",
    "print(school_data_path.exists())"
   ]
  },
  {
   "cell_type": "code",
   "execution_count": 8,
   "metadata": {},
   "outputs": [
    {
     "name": "stdout",
     "output_type": "stream",
     "text": [
      "True\n"
     ]
    }
   ],
   "source": [
    "# Define the path students_complete.csv and ensure the path is correct\n",
    "student_data_path = Path('Resources/students_complete.csv')\n",
    "print(student_data_path.exists())"
   ]
  },
  {
   "cell_type": "code",
   "execution_count": 9,
   "metadata": {},
   "outputs": [],
   "source": [
    "# Read data files and store in pandas DataFrames\n",
    "school_data = pd.read_csv(school_data_path)\n",
    "student_data = pd.read_csv(student_data_path)"
   ]
  },
  {
   "cell_type": "code",
   "execution_count": 10,
   "metadata": {},
   "outputs": [
    {
     "data": {
      "text/html": [
       "<div>\n",
       "<style scoped>\n",
       "    .dataframe tbody tr th:only-of-type {\n",
       "        vertical-align: middle;\n",
       "    }\n",
       "\n",
       "    .dataframe tbody tr th {\n",
       "        vertical-align: top;\n",
       "    }\n",
       "\n",
       "    .dataframe thead th {\n",
       "        text-align: right;\n",
       "    }\n",
       "</style>\n",
       "<table border=\"1\" class=\"dataframe\">\n",
       "  <thead>\n",
       "    <tr style=\"text-align: right;\">\n",
       "      <th></th>\n",
       "      <th>School ID</th>\n",
       "      <th>school_name</th>\n",
       "      <th>type</th>\n",
       "      <th>size</th>\n",
       "      <th>budget</th>\n",
       "    </tr>\n",
       "  </thead>\n",
       "  <tbody>\n",
       "    <tr>\n",
       "      <th>0</th>\n",
       "      <td>0</td>\n",
       "      <td>Huang High School</td>\n",
       "      <td>District</td>\n",
       "      <td>2917</td>\n",
       "      <td>1910635</td>\n",
       "    </tr>\n",
       "    <tr>\n",
       "      <th>1</th>\n",
       "      <td>1</td>\n",
       "      <td>Figueroa High School</td>\n",
       "      <td>District</td>\n",
       "      <td>2949</td>\n",
       "      <td>1884411</td>\n",
       "    </tr>\n",
       "    <tr>\n",
       "      <th>2</th>\n",
       "      <td>2</td>\n",
       "      <td>Shelton High School</td>\n",
       "      <td>Charter</td>\n",
       "      <td>1761</td>\n",
       "      <td>1056600</td>\n",
       "    </tr>\n",
       "    <tr>\n",
       "      <th>3</th>\n",
       "      <td>3</td>\n",
       "      <td>Hernandez High School</td>\n",
       "      <td>District</td>\n",
       "      <td>4635</td>\n",
       "      <td>3022020</td>\n",
       "    </tr>\n",
       "    <tr>\n",
       "      <th>4</th>\n",
       "      <td>4</td>\n",
       "      <td>Griffin High School</td>\n",
       "      <td>Charter</td>\n",
       "      <td>1468</td>\n",
       "      <td>917500</td>\n",
       "    </tr>\n",
       "  </tbody>\n",
       "</table>\n",
       "</div>"
      ],
      "text/plain": [
       "   School ID            school_name      type  size   budget\n",
       "0          0      Huang High School  District  2917  1910635\n",
       "1          1   Figueroa High School  District  2949  1884411\n",
       "2          2    Shelton High School   Charter  1761  1056600\n",
       "3          3  Hernandez High School  District  4635  3022020\n",
       "4          4    Griffin High School   Charter  1468   917500"
      ]
     },
     "execution_count": 10,
     "metadata": {},
     "output_type": "execute_result"
    }
   ],
   "source": [
    "# Display the first 5 rows of the school_data DataFrame\n",
    "school_data.head()"
   ]
  },
  {
   "cell_type": "code",
   "execution_count": 11,
   "metadata": {},
   "outputs": [
    {
     "data": {
      "text/html": [
       "<div>\n",
       "<style scoped>\n",
       "    .dataframe tbody tr th:only-of-type {\n",
       "        vertical-align: middle;\n",
       "    }\n",
       "\n",
       "    .dataframe tbody tr th {\n",
       "        vertical-align: top;\n",
       "    }\n",
       "\n",
       "    .dataframe thead th {\n",
       "        text-align: right;\n",
       "    }\n",
       "</style>\n",
       "<table border=\"1\" class=\"dataframe\">\n",
       "  <thead>\n",
       "    <tr style=\"text-align: right;\">\n",
       "      <th></th>\n",
       "      <th>Student ID</th>\n",
       "      <th>student_name</th>\n",
       "      <th>gender</th>\n",
       "      <th>grade</th>\n",
       "      <th>school_name</th>\n",
       "      <th>reading_score</th>\n",
       "      <th>math_score</th>\n",
       "    </tr>\n",
       "  </thead>\n",
       "  <tbody>\n",
       "    <tr>\n",
       "      <th>0</th>\n",
       "      <td>0</td>\n",
       "      <td>Paul Bradley</td>\n",
       "      <td>M</td>\n",
       "      <td>9th</td>\n",
       "      <td>Huang High School</td>\n",
       "      <td>66</td>\n",
       "      <td>79</td>\n",
       "    </tr>\n",
       "    <tr>\n",
       "      <th>1</th>\n",
       "      <td>1</td>\n",
       "      <td>Victor Smith</td>\n",
       "      <td>M</td>\n",
       "      <td>12th</td>\n",
       "      <td>Huang High School</td>\n",
       "      <td>94</td>\n",
       "      <td>61</td>\n",
       "    </tr>\n",
       "    <tr>\n",
       "      <th>2</th>\n",
       "      <td>2</td>\n",
       "      <td>Kevin Rodriguez</td>\n",
       "      <td>M</td>\n",
       "      <td>12th</td>\n",
       "      <td>Huang High School</td>\n",
       "      <td>90</td>\n",
       "      <td>60</td>\n",
       "    </tr>\n",
       "    <tr>\n",
       "      <th>3</th>\n",
       "      <td>3</td>\n",
       "      <td>Dr. Richard Scott</td>\n",
       "      <td>M</td>\n",
       "      <td>12th</td>\n",
       "      <td>Huang High School</td>\n",
       "      <td>67</td>\n",
       "      <td>58</td>\n",
       "    </tr>\n",
       "    <tr>\n",
       "      <th>4</th>\n",
       "      <td>4</td>\n",
       "      <td>Bonnie Ray</td>\n",
       "      <td>F</td>\n",
       "      <td>9th</td>\n",
       "      <td>Huang High School</td>\n",
       "      <td>97</td>\n",
       "      <td>84</td>\n",
       "    </tr>\n",
       "  </tbody>\n",
       "</table>\n",
       "</div>"
      ],
      "text/plain": [
       "   Student ID       student_name gender grade        school_name  \\\n",
       "0           0       Paul Bradley      M   9th  Huang High School   \n",
       "1           1       Victor Smith      M  12th  Huang High School   \n",
       "2           2    Kevin Rodriguez      M  12th  Huang High School   \n",
       "3           3  Dr. Richard Scott      M  12th  Huang High School   \n",
       "4           4         Bonnie Ray      F   9th  Huang High School   \n",
       "\n",
       "   reading_score  math_score  \n",
       "0             66          79  \n",
       "1             94          61  \n",
       "2             90          60  \n",
       "3             67          58  \n",
       "4             97          84  "
      ]
     },
     "execution_count": 11,
     "metadata": {},
     "output_type": "execute_result"
    }
   ],
   "source": [
    "# Display the first 5 rows of the student_data DataFrame\n",
    "student_data.head()"
   ]
  },
  {
   "cell_type": "code",
   "execution_count": 12,
   "metadata": {},
   "outputs": [
    {
     "data": {
      "text/html": [
       "<div>\n",
       "<style scoped>\n",
       "    .dataframe tbody tr th:only-of-type {\n",
       "        vertical-align: middle;\n",
       "    }\n",
       "\n",
       "    .dataframe tbody tr th {\n",
       "        vertical-align: top;\n",
       "    }\n",
       "\n",
       "    .dataframe thead th {\n",
       "        text-align: right;\n",
       "    }\n",
       "</style>\n",
       "<table border=\"1\" class=\"dataframe\">\n",
       "  <thead>\n",
       "    <tr style=\"text-align: right;\">\n",
       "      <th></th>\n",
       "      <th>Student ID</th>\n",
       "      <th>student_name</th>\n",
       "      <th>gender</th>\n",
       "      <th>grade</th>\n",
       "      <th>school_name</th>\n",
       "      <th>reading_score</th>\n",
       "      <th>math_score</th>\n",
       "      <th>School ID</th>\n",
       "      <th>type</th>\n",
       "      <th>size</th>\n",
       "      <th>budget</th>\n",
       "    </tr>\n",
       "  </thead>\n",
       "  <tbody>\n",
       "    <tr>\n",
       "      <th>0</th>\n",
       "      <td>0</td>\n",
       "      <td>Paul Bradley</td>\n",
       "      <td>M</td>\n",
       "      <td>9th</td>\n",
       "      <td>Huang High School</td>\n",
       "      <td>66</td>\n",
       "      <td>79</td>\n",
       "      <td>0</td>\n",
       "      <td>District</td>\n",
       "      <td>2917</td>\n",
       "      <td>1910635</td>\n",
       "    </tr>\n",
       "    <tr>\n",
       "      <th>1</th>\n",
       "      <td>1</td>\n",
       "      <td>Victor Smith</td>\n",
       "      <td>M</td>\n",
       "      <td>12th</td>\n",
       "      <td>Huang High School</td>\n",
       "      <td>94</td>\n",
       "      <td>61</td>\n",
       "      <td>0</td>\n",
       "      <td>District</td>\n",
       "      <td>2917</td>\n",
       "      <td>1910635</td>\n",
       "    </tr>\n",
       "    <tr>\n",
       "      <th>2</th>\n",
       "      <td>2</td>\n",
       "      <td>Kevin Rodriguez</td>\n",
       "      <td>M</td>\n",
       "      <td>12th</td>\n",
       "      <td>Huang High School</td>\n",
       "      <td>90</td>\n",
       "      <td>60</td>\n",
       "      <td>0</td>\n",
       "      <td>District</td>\n",
       "      <td>2917</td>\n",
       "      <td>1910635</td>\n",
       "    </tr>\n",
       "    <tr>\n",
       "      <th>3</th>\n",
       "      <td>3</td>\n",
       "      <td>Dr. Richard Scott</td>\n",
       "      <td>M</td>\n",
       "      <td>12th</td>\n",
       "      <td>Huang High School</td>\n",
       "      <td>67</td>\n",
       "      <td>58</td>\n",
       "      <td>0</td>\n",
       "      <td>District</td>\n",
       "      <td>2917</td>\n",
       "      <td>1910635</td>\n",
       "    </tr>\n",
       "    <tr>\n",
       "      <th>4</th>\n",
       "      <td>4</td>\n",
       "      <td>Bonnie Ray</td>\n",
       "      <td>F</td>\n",
       "      <td>9th</td>\n",
       "      <td>Huang High School</td>\n",
       "      <td>97</td>\n",
       "      <td>84</td>\n",
       "      <td>0</td>\n",
       "      <td>District</td>\n",
       "      <td>2917</td>\n",
       "      <td>1910635</td>\n",
       "    </tr>\n",
       "  </tbody>\n",
       "</table>\n",
       "</div>"
      ],
      "text/plain": [
       "   Student ID       student_name gender grade        school_name  \\\n",
       "0           0       Paul Bradley      M   9th  Huang High School   \n",
       "1           1       Victor Smith      M  12th  Huang High School   \n",
       "2           2    Kevin Rodriguez      M  12th  Huang High School   \n",
       "3           3  Dr. Richard Scott      M  12th  Huang High School   \n",
       "4           4         Bonnie Ray      F   9th  Huang High School   \n",
       "\n",
       "   reading_score  math_score  School ID      type  size   budget  \n",
       "0             66          79          0  District  2917  1910635  \n",
       "1             94          61          0  District  2917  1910635  \n",
       "2             90          60          0  District  2917  1910635  \n",
       "3             67          58          0  District  2917  1910635  \n",
       "4             97          84          0  District  2917  1910635  "
      ]
     },
     "execution_count": 12,
     "metadata": {},
     "output_type": "execute_result"
    }
   ],
   "source": [
    "# Combine the data into a single dataset using a left join on the school_name column\n",
    "school_data_left_join = pd.merge(student_data, school_data, how='left', on=['school_name', 'school_name'])\n",
    "school_data_left_join.head()"
   ]
  },
  {
   "cell_type": "code",
   "execution_count": 13,
   "metadata": {},
   "outputs": [
    {
     "data": {
      "text/html": [
       "<div>\n",
       "<style scoped>\n",
       "    .dataframe tbody tr th:only-of-type {\n",
       "        vertical-align: middle;\n",
       "    }\n",
       "\n",
       "    .dataframe tbody tr th {\n",
       "        vertical-align: top;\n",
       "    }\n",
       "\n",
       "    .dataframe thead th {\n",
       "        text-align: right;\n",
       "    }\n",
       "</style>\n",
       "<table border=\"1\" class=\"dataframe\">\n",
       "  <thead>\n",
       "    <tr style=\"text-align: right;\">\n",
       "      <th></th>\n",
       "      <th>Student ID</th>\n",
       "      <th>student_name</th>\n",
       "      <th>gender</th>\n",
       "      <th>grade</th>\n",
       "      <th>school_name</th>\n",
       "      <th>reading_score</th>\n",
       "      <th>math_score</th>\n",
       "      <th>School ID</th>\n",
       "      <th>type</th>\n",
       "      <th>size</th>\n",
       "      <th>budget</th>\n",
       "    </tr>\n",
       "  </thead>\n",
       "  <tbody>\n",
       "    <tr>\n",
       "      <th>0</th>\n",
       "      <td>0</td>\n",
       "      <td>Paul Bradley</td>\n",
       "      <td>M</td>\n",
       "      <td>9th</td>\n",
       "      <td>Huang High School</td>\n",
       "      <td>66</td>\n",
       "      <td>79</td>\n",
       "      <td>0</td>\n",
       "      <td>District</td>\n",
       "      <td>2917</td>\n",
       "      <td>1910635</td>\n",
       "    </tr>\n",
       "    <tr>\n",
       "      <th>1</th>\n",
       "      <td>1</td>\n",
       "      <td>Victor Smith</td>\n",
       "      <td>M</td>\n",
       "      <td>12th</td>\n",
       "      <td>Huang High School</td>\n",
       "      <td>94</td>\n",
       "      <td>61</td>\n",
       "      <td>0</td>\n",
       "      <td>District</td>\n",
       "      <td>2917</td>\n",
       "      <td>1910635</td>\n",
       "    </tr>\n",
       "    <tr>\n",
       "      <th>2</th>\n",
       "      <td>2</td>\n",
       "      <td>Kevin Rodriguez</td>\n",
       "      <td>M</td>\n",
       "      <td>12th</td>\n",
       "      <td>Huang High School</td>\n",
       "      <td>90</td>\n",
       "      <td>60</td>\n",
       "      <td>0</td>\n",
       "      <td>District</td>\n",
       "      <td>2917</td>\n",
       "      <td>1910635</td>\n",
       "    </tr>\n",
       "    <tr>\n",
       "      <th>3</th>\n",
       "      <td>3</td>\n",
       "      <td>Dr. Richard Scott</td>\n",
       "      <td>M</td>\n",
       "      <td>12th</td>\n",
       "      <td>Huang High School</td>\n",
       "      <td>67</td>\n",
       "      <td>58</td>\n",
       "      <td>0</td>\n",
       "      <td>District</td>\n",
       "      <td>2917</td>\n",
       "      <td>1910635</td>\n",
       "    </tr>\n",
       "    <tr>\n",
       "      <th>4</th>\n",
       "      <td>4</td>\n",
       "      <td>Bonnie Ray</td>\n",
       "      <td>F</td>\n",
       "      <td>9th</td>\n",
       "      <td>Huang High School</td>\n",
       "      <td>97</td>\n",
       "      <td>84</td>\n",
       "      <td>0</td>\n",
       "      <td>District</td>\n",
       "      <td>2917</td>\n",
       "      <td>1910635</td>\n",
       "    </tr>\n",
       "  </tbody>\n",
       "</table>\n",
       "</div>"
      ],
      "text/plain": [
       "   Student ID       student_name gender grade        school_name  \\\n",
       "0           0       Paul Bradley      M   9th  Huang High School   \n",
       "1           1       Victor Smith      M  12th  Huang High School   \n",
       "2           2    Kevin Rodriguez      M  12th  Huang High School   \n",
       "3           3  Dr. Richard Scott      M  12th  Huang High School   \n",
       "4           4         Bonnie Ray      F   9th  Huang High School   \n",
       "\n",
       "   reading_score  math_score  School ID      type  size   budget  \n",
       "0             66          79          0  District  2917  1910635  \n",
       "1             94          61          0  District  2917  1910635  \n",
       "2             90          60          0  District  2917  1910635  \n",
       "3             67          58          0  District  2917  1910635  \n",
       "4             97          84          0  District  2917  1910635  "
      ]
     },
     "execution_count": 13,
     "metadata": {},
     "output_type": "execute_result"
    }
   ],
   "source": [
    "# Combine the data into a single dataset using a right join on the school_name column\n",
    "school_data_right_join = pd.merge(student_data, school_data, how='right', on=['school_name', 'school_name'])\n",
    "school_data_right_join.head()"
   ]
  },
  {
   "cell_type": "code",
   "execution_count": 14,
   "metadata": {},
   "outputs": [
    {
     "name": "stdout",
     "output_type": "stream",
     "text": [
      "<class 'pandas.core.frame.DataFrame'>\n",
      "RangeIndex: 39170 entries, 0 to 39169\n",
      "Data columns (total 11 columns):\n",
      " #   Column         Non-Null Count  Dtype \n",
      "---  ------         --------------  ----- \n",
      " 0   Student ID     39170 non-null  int64 \n",
      " 1   student_name   39170 non-null  object\n",
      " 2   gender         39170 non-null  object\n",
      " 3   grade          39170 non-null  object\n",
      " 4   school_name    39170 non-null  object\n",
      " 5   reading_score  39170 non-null  int64 \n",
      " 6   math_score     39170 non-null  int64 \n",
      " 7   School ID      39170 non-null  int64 \n",
      " 8   type           39170 non-null  object\n",
      " 9   size           39170 non-null  int64 \n",
      " 10  budget         39170 non-null  int64 \n",
      "dtypes: int64(6), object(5)\n",
      "memory usage: 3.3+ MB\n"
     ]
    }
   ],
   "source": [
    "# Display school_data_left_join DataFrame information\n",
    "school_data_left_join.info()"
   ]
  },
  {
   "cell_type": "code",
   "execution_count": 15,
   "metadata": {},
   "outputs": [
    {
     "name": "stdout",
     "output_type": "stream",
     "text": [
      "<class 'pandas.core.frame.DataFrame'>\n",
      "RangeIndex: 39170 entries, 0 to 39169\n",
      "Data columns (total 11 columns):\n",
      " #   Column         Non-Null Count  Dtype \n",
      "---  ------         --------------  ----- \n",
      " 0   Student ID     39170 non-null  int64 \n",
      " 1   student_name   39170 non-null  object\n",
      " 2   gender         39170 non-null  object\n",
      " 3   grade          39170 non-null  object\n",
      " 4   school_name    39170 non-null  object\n",
      " 5   reading_score  39170 non-null  int64 \n",
      " 6   math_score     39170 non-null  int64 \n",
      " 7   School ID      39170 non-null  int64 \n",
      " 8   type           39170 non-null  object\n",
      " 9   size           39170 non-null  int64 \n",
      " 10  budget         39170 non-null  int64 \n",
      "dtypes: int64(6), object(5)\n",
      "memory usage: 3.3+ MB\n"
     ]
    }
   ],
   "source": [
    "# Display school_data_right_join DataFrame information\n",
    "school_data_right_join.info()"
   ]
  },
  {
   "cell_type": "code",
   "execution_count": 16,
   "metadata": {},
   "outputs": [
    {
     "data": {
      "text/plain": [
       "15"
      ]
     },
     "execution_count": 16,
     "metadata": {},
     "output_type": "execute_result"
    }
   ],
   "source": [
    "# Using the school_data_left_join DataFrame, calculate the total number of schools\n",
    "total_schools = school_data_left_join['school_name'].nunique()\n",
    "total_schools"
   ]
  },
  {
   "cell_type": "code",
   "execution_count": 17,
   "metadata": {},
   "outputs": [
    {
     "data": {
      "text/plain": [
       "39170"
      ]
     },
     "execution_count": 17,
     "metadata": {},
     "output_type": "execute_result"
    }
   ],
   "source": [
    "# Using the school_data_left_join DataFrame, calculate the total number of students\n",
    "total_students = school_data_left_join['student_name'].count()\n",
    "total_students"
   ]
  },
  {
   "cell_type": "code",
   "execution_count": 18,
   "metadata": {},
   "outputs": [
    {
     "data": {
      "text/plain": [
       "24649428"
      ]
     },
     "execution_count": 18,
     "metadata": {},
     "output_type": "execute_result"
    }
   ],
   "source": [
    "# Using the school_data_left_join DataFrame, calculate the total budget\n",
    "total_budget = school_data_left_join['budget'].unique().sum()\n",
    "total_budget"
   ]
  },
  {
   "cell_type": "code",
   "execution_count": 19,
   "metadata": {},
   "outputs": [
    {
     "data": {
      "text/plain": [
       "78.98537145774827"
      ]
     },
     "execution_count": 19,
     "metadata": {},
     "output_type": "execute_result"
    }
   ],
   "source": [
    "# Using the school_data_left_join DataFrame, calculate the average math score\n",
    "average_math_score = school_data_left_join['math_score'].mean()\n",
    "average_math_score"
   ]
  },
  {
   "cell_type": "code",
   "execution_count": 20,
   "metadata": {},
   "outputs": [
    {
     "data": {
      "text/plain": [
       "81.87784018381414"
      ]
     },
     "execution_count": 20,
     "metadata": {},
     "output_type": "execute_result"
    }
   ],
   "source": [
    "# Using the school_data_left_join DataFrame, calculate the average reading score\n",
    "average_reading_score = school_data_left_join['reading_score'].mean()\n",
    "average_reading_score"
   ]
  },
  {
   "cell_type": "code",
   "execution_count": 21,
   "metadata": {},
   "outputs": [
    {
     "data": {
      "text/plain": [
       "74.9808526933878"
      ]
     },
     "execution_count": 21,
     "metadata": {},
     "output_type": "execute_result"
    }
   ],
   "source": [
    "# Using the school_data_left_join DataFrame, calculate the percentage of students with a passing math score (70 or greater)\n",
    "passing_math_score = school_data_left_join[school_data_left_join['math_score'] >= 70]['math_score'].count()\n",
    "percentage_passing_math_score = (passing_math_score / total_students) * 100\n",
    "percentage_passing_math_score"
   ]
  },
  {
   "cell_type": "code",
   "execution_count": 22,
   "metadata": {},
   "outputs": [
    {
     "data": {
      "text/plain": [
       "85.80546336482001"
      ]
     },
     "execution_count": 22,
     "metadata": {},
     "output_type": "execute_result"
    }
   ],
   "source": [
    "# Using the school_data_left_join DataFrame, calculate the percentage of students with a passing reading score (70 or greater)\n",
    "passing_reading_score = school_data_left_join[school_data_left_join['reading_score'] >= 70]['reading_score'].count()\n",
    "percentage_passing_reading_score = (passing_reading_score / total_students) * 100\n",
    "percentage_passing_reading_score"
   ]
  },
  {
   "cell_type": "code",
   "execution_count": 23,
   "metadata": {},
   "outputs": [
    {
     "data": {
      "text/plain": [
       "65.17232575950983"
      ]
     },
     "execution_count": 23,
     "metadata": {},
     "output_type": "execute_result"
    }
   ],
   "source": [
    "# Using the school_data_left_join DataFrame, calculate the percentage of students who passed math and reading (% Overall Passing)\n",
    "overall_passing_score = school_data_left_join[(school_data_left_join['math_score'] >= 70) & (school_data_left_join['reading_score'] >= 70)]['student_name'].count()\n",
    "percentage_overall_passing_score = (overall_passing_score / total_students) * 100\n",
    "percentage_overall_passing_score"
   ]
  },
  {
   "cell_type": "code",
   "execution_count": 24,
   "metadata": {},
   "outputs": [
    {
     "data": {
      "text/html": [
       "<div>\n",
       "<style scoped>\n",
       "    .dataframe tbody tr th:only-of-type {\n",
       "        vertical-align: middle;\n",
       "    }\n",
       "\n",
       "    .dataframe tbody tr th {\n",
       "        vertical-align: top;\n",
       "    }\n",
       "\n",
       "    .dataframe thead th {\n",
       "        text-align: right;\n",
       "    }\n",
       "</style>\n",
       "<table border=\"1\" class=\"dataframe\">\n",
       "  <thead>\n",
       "    <tr style=\"text-align: right;\">\n",
       "      <th></th>\n",
       "      <th>Total Schools</th>\n",
       "      <th>Total Students</th>\n",
       "      <th>Total Budget</th>\n",
       "      <th>Average Math Score</th>\n",
       "      <th>Average Reading Score</th>\n",
       "      <th>% Passing Math</th>\n",
       "      <th>% Passing Reading</th>\n",
       "      <th>% Overall Passing</th>\n",
       "    </tr>\n",
       "  </thead>\n",
       "  <tbody>\n",
       "    <tr>\n",
       "      <th>0</th>\n",
       "      <td>15</td>\n",
       "      <td>39,170</td>\n",
       "      <td>$24,649,428.00</td>\n",
       "      <td>78.99%</td>\n",
       "      <td>81.88%</td>\n",
       "      <td>74.98%</td>\n",
       "      <td>85.81%</td>\n",
       "      <td>65.17%</td>\n",
       "    </tr>\n",
       "  </tbody>\n",
       "</table>\n",
       "</div>"
      ],
      "text/plain": [
       "   Total Schools Total Students    Total Budget Average Math Score  \\\n",
       "0             15         39,170  $24,649,428.00             78.99%   \n",
       "\n",
       "  Average Reading Score % Passing Math % Passing Reading % Overall Passing  \n",
       "0                81.88%         74.98%            85.81%            65.17%  "
      ]
     },
     "execution_count": 24,
     "metadata": {},
     "output_type": "execute_result"
    }
   ],
   "source": [
    "# Create a DataFrame to hold the above results and format the data\n",
    "district_summary = pd.DataFrame({\n",
    "    'Total Schools': [total_schools],\n",
    "    'Total Students': [total_students],\n",
    "    'Total Budget': [total_budget],\n",
    "    'Average Math Score': [average_math_score],\n",
    "    'Average Reading Score': [average_reading_score],\n",
    "    '% Passing Math': [percentage_passing_math_score],\n",
    "    '% Passing Reading': [percentage_passing_reading_score],\n",
    "    '% Overall Passing': [percentage_overall_passing_score]\n",
    "})\n",
    "district_summary['Total Students'] = district_summary['Total Students'].map('{:,}'.format)\n",
    "district_summary['Total Budget'] = district_summary['Total Budget'].map('${:,.2f}'.format)\n",
    "district_summary['Average Math Score'] = district_summary['Average Math Score'].map('{:.2f}%'.format)\n",
    "district_summary['Average Reading Score'] = district_summary['Average Reading Score'].map('{:.2f}%'.format)\n",
    "district_summary['% Passing Math'] = district_summary['% Passing Math'].map('{:.2f}%'.format)\n",
    "district_summary['% Passing Reading'] = district_summary['% Passing Reading'].map('{:.2f}%'.format)\n",
    "district_summary['% Overall Passing'] = district_summary['% Overall Passing'].map('{:.2f}%'.format)\n",
    "district_summary"
   ]
  },
  {
   "cell_type": "code",
   "execution_count": 25,
   "metadata": {},
   "outputs": [
    {
     "name": "stdout",
     "output_type": "stream",
     "text": [
      "Directory exists: c:\\Users\\Jon\\OneDrive\\githubRepo\\pandas-challenge\\PyCitySchools\\analysis\n"
     ]
    }
   ],
   "source": [
    "import os\n",
    "\n",
    "# Define the home directory\n",
    "home_dir = os.getcwd()\n",
    "\n",
    "# Define the subdirectory to save the output file\n",
    "analysis_dir = os.path.join(home_dir, \"analysis\")\n",
    "\n",
    "# Ensure the directory exists before writing the output file\n",
    "if os.path.exists(analysis_dir) and os.path.isdir(analysis_dir):\n",
    "    print(f\"Directory exists: {analysis_dir}\")\n",
    "else:\n",
    "    print(f\"Directory does not exist: {analysis_dir}\")"
   ]
  },
  {
   "cell_type": "code",
   "execution_count": 26,
   "metadata": {},
   "outputs": [
    {
     "name": "stdout",
     "output_type": "stream",
     "text": [
      "Output file path: c:\\Users\\Jon\\OneDrive\\githubRepo\\pandas-challenge\\PyCitySchools\\analysis\\district_summary.csv\n"
     ]
    }
   ],
   "source": [
    "# Define the name of the output file\n",
    "output_file_ds = \"district_summary.csv\"\n",
    "\n",
    "# Combine the directory and file name to create the full path\n",
    "output_file_path_ds = os.path.join(analysis_dir, output_file_ds)\n",
    "\n",
    "# Display the full output file path\n",
    "print(f\"Output file path: {output_file_path_ds}\")\n"
   ]
  },
  {
   "cell_type": "code",
   "execution_count": 27,
   "metadata": {},
   "outputs": [
    {
     "name": "stdout",
     "output_type": "stream",
     "text": [
      "Output file created: c:\\Users\\Jon\\OneDrive\\githubRepo\\pandas-challenge\\PyCitySchools\\analysis\\district_summary.csv\n"
     ]
    }
   ],
   "source": [
    "# Save the district summary DataFrame to a CSV file\n",
    "district_summary.to_csv(output_file_path_ds, index=False)\n",
    "\n",
    "# Ensure the output file was created\n",
    "if os.path.exists(output_file_path_ds) and os.path.isfile(output_file_path_ds):\n",
    "    print(f\"Output file created: {output_file_path_ds}\")"
   ]
  },
  {
   "cell_type": "code",
   "execution_count": 28,
   "metadata": {},
   "outputs": [
    {
     "data": {
      "text/plain": [
       "array(['Huang High School', 'Figueroa High School', 'Shelton High School',\n",
       "       'Hernandez High School', 'Griffin High School',\n",
       "       'Wilson High School', 'Cabrera High School', 'Bailey High School',\n",
       "       'Holden High School', 'Pena High School', 'Wright High School',\n",
       "       'Rodriguez High School', 'Johnson High School', 'Ford High School',\n",
       "       'Thomas High School'], dtype=object)"
      ]
     },
     "execution_count": 28,
     "metadata": {},
     "output_type": "execute_result"
    }
   ],
   "source": [
    "# Using the school_data_left_join DataFrame, display the unique school names\n",
    "school_names = school_data_left_join['school_name'].unique()\n",
    "school_names"
   ]
  },
  {
   "cell_type": "code",
   "execution_count": 29,
   "metadata": {},
   "outputs": [
    {
     "data": {
      "text/plain": [
       "school_name\n",
       "Bailey High School       4976\n",
       "Johnson High School      4761\n",
       "Hernandez High School    4635\n",
       "Rodriguez High School    3999\n",
       "Figueroa High School     2949\n",
       "Huang High School        2917\n",
       "Ford High School         2739\n",
       "Wilson High School       2283\n",
       "Cabrera High School      1858\n",
       "Wright High School       1800\n",
       "Shelton High School      1761\n",
       "Thomas High School       1635\n",
       "Griffin High School      1468\n",
       "Pena High School          962\n",
       "Holden High School        427\n",
       "Name: count, dtype: int64"
      ]
     },
     "execution_count": 29,
     "metadata": {},
     "output_type": "execute_result"
    }
   ],
   "source": [
    "# Using the school_data_left_join DataFrame, calculate the total number of students at each school\n",
    "total_students_per_school = school_data_left_join['school_name'].value_counts()\n",
    "total_students_per_school"
   ]
  },
  {
   "cell_type": "code",
   "execution_count": 30,
   "metadata": {},
   "outputs": [
    {
     "data": {
      "text/plain": [
       "school_name\n",
       "Bailey High School       3124928.0\n",
       "Cabrera High School      1081356.0\n",
       "Figueroa High School     1884411.0\n",
       "Ford High School         1763916.0\n",
       "Griffin High School       917500.0\n",
       "Hernandez High School    3022020.0\n",
       "Holden High School        248087.0\n",
       "Huang High School        1910635.0\n",
       "Johnson High School      3094650.0\n",
       "Pena High School          585858.0\n",
       "Rodriguez High School    2547363.0\n",
       "Shelton High School      1056600.0\n",
       "Thomas High School       1043130.0\n",
       "Wilson High School       1319574.0\n",
       "Wright High School       1049400.0\n",
       "Name: budget, dtype: float64"
      ]
     },
     "execution_count": 30,
     "metadata": {},
     "output_type": "execute_result"
    }
   ],
   "source": [
    "# Using the school_data_left_join DataFrame, calculate the total budget at each school\n",
    "total_budget_per_school = school_data_left_join.groupby('school_name')['budget'].mean()\n",
    "total_budget_per_school"
   ]
  },
  {
   "cell_type": "code",
   "execution_count": 31,
   "metadata": {},
   "outputs": [
    {
     "data": {
      "text/plain": [
       "school_name\n",
       "Bailey High School       628.0\n",
       "Cabrera High School      582.0\n",
       "Figueroa High School     639.0\n",
       "Ford High School         644.0\n",
       "Griffin High School      625.0\n",
       "Hernandez High School    652.0\n",
       "Holden High School       581.0\n",
       "Huang High School        655.0\n",
       "Johnson High School      650.0\n",
       "Pena High School         609.0\n",
       "Rodriguez High School    637.0\n",
       "Shelton High School      600.0\n",
       "Thomas High School       638.0\n",
       "Wilson High School       578.0\n",
       "Wright High School       583.0\n",
       "dtype: float64"
      ]
     },
     "execution_count": 31,
     "metadata": {},
     "output_type": "execute_result"
    }
   ],
   "source": [
    "# Using the school_data_left_join DataFrame, calculate the budget per student at each school\n",
    "budget_per_student = total_budget_per_school / total_students_per_school\n",
    "budget_per_student"
   ]
  },
  {
   "cell_type": "code",
   "execution_count": 32,
   "metadata": {},
   "outputs": [
    {
     "data": {
      "text/plain": [
       "school_name\n",
       "Bailey High School       77.048432\n",
       "Cabrera High School      83.061895\n",
       "Figueroa High School     76.711767\n",
       "Ford High School         77.102592\n",
       "Griffin High School      83.351499\n",
       "Hernandez High School    77.289752\n",
       "Holden High School       83.803279\n",
       "Huang High School        76.629414\n",
       "Johnson High School      77.072464\n",
       "Pena High School         83.839917\n",
       "Rodriguez High School    76.842711\n",
       "Shelton High School      83.359455\n",
       "Thomas High School       83.418349\n",
       "Wilson High School       83.274201\n",
       "Wright High School       83.682222\n",
       "Name: math_score, dtype: float64"
      ]
     },
     "execution_count": 32,
     "metadata": {},
     "output_type": "execute_result"
    }
   ],
   "source": [
    "# Using the school_data_left_join DataFrame, calculate the average math score at each school\n",
    "average_math_score_per_school = school_data_left_join.groupby('school_name')['math_score'].mean()\n",
    "average_math_score_per_school"
   ]
  },
  {
   "cell_type": "code",
   "execution_count": 33,
   "metadata": {},
   "outputs": [
    {
     "data": {
      "text/plain": [
       "school_name\n",
       "Bailey High School       81.033963\n",
       "Cabrera High School      83.975780\n",
       "Figueroa High School     81.158020\n",
       "Ford High School         80.746258\n",
       "Griffin High School      83.816757\n",
       "Hernandez High School    80.934412\n",
       "Holden High School       83.814988\n",
       "Huang High School        81.182722\n",
       "Johnson High School      80.966394\n",
       "Pena High School         84.044699\n",
       "Rodriguez High School    80.744686\n",
       "Shelton High School      83.725724\n",
       "Thomas High School       83.848930\n",
       "Wilson High School       83.989488\n",
       "Wright High School       83.955000\n",
       "Name: reading_score, dtype: float64"
      ]
     },
     "execution_count": 33,
     "metadata": {},
     "output_type": "execute_result"
    }
   ],
   "source": [
    "# Using the school_data_left_join DataFrame, calculate the average reading score at each school\n",
    "average_reading_score_per_school = school_data_left_join.groupby('school_name')['reading_score'].mean()\n",
    "average_reading_score_per_school"
   ]
  },
  {
   "cell_type": "code",
   "execution_count": 34,
   "metadata": {},
   "outputs": [
    {
     "data": {
      "text/plain": [
       "school_name\n",
       "Bailey High School       66.680064\n",
       "Cabrera High School      94.133477\n",
       "Figueroa High School     65.988471\n",
       "Ford High School         68.309602\n",
       "Griffin High School      93.392371\n",
       "Hernandez High School    66.752967\n",
       "Holden High School       92.505855\n",
       "Huang High School        65.683922\n",
       "Johnson High School      66.057551\n",
       "Pena High School         94.594595\n",
       "Rodriguez High School    66.366592\n",
       "Shelton High School      93.867121\n",
       "Thomas High School       93.272171\n",
       "Wilson High School       93.867718\n",
       "Wright High School       93.333333\n",
       "dtype: float64"
      ]
     },
     "execution_count": 34,
     "metadata": {},
     "output_type": "execute_result"
    }
   ],
   "source": [
    "# Using the school_data_left_join DataFrame, calculate the percentage of students with a passing math score (70 or greater) at each school\n",
    "passing_math_score_per_school = school_data_left_join[school_data_left_join['math_score'] >= 70].groupby('school_name')['math_score'].count()\n",
    "percentage_passing_math_score_per_school = (passing_math_score_per_school / total_students_per_school) * 100\n",
    "percentage_passing_math_score_per_school"
   ]
  },
  {
   "cell_type": "code",
   "execution_count": 35,
   "metadata": {},
   "outputs": [
    {
     "data": {
      "text/plain": [
       "school_name\n",
       "Bailey High School       81.933280\n",
       "Cabrera High School      97.039828\n",
       "Figueroa High School     80.739234\n",
       "Ford High School         79.299014\n",
       "Griffin High School      97.138965\n",
       "Hernandez High School    80.862999\n",
       "Holden High School       96.252927\n",
       "Huang High School        81.316421\n",
       "Johnson High School      81.222432\n",
       "Pena High School         95.945946\n",
       "Rodriguez High School    80.220055\n",
       "Shelton High School      95.854628\n",
       "Thomas High School       97.308869\n",
       "Wilson High School       96.539641\n",
       "Wright High School       96.611111\n",
       "dtype: float64"
      ]
     },
     "execution_count": 35,
     "metadata": {},
     "output_type": "execute_result"
    }
   ],
   "source": [
    "# Using the school_data_left_join DataFrame, calculate the percentage of students with a passing reading score (70 or greater) at each school\n",
    "passing_reading_score_per_school = school_data_left_join[school_data_left_join['reading_score'] >= 70].groupby('school_name')['reading_score'].count()\n",
    "percentage_passing_reading_score_per_school = (passing_reading_score_per_school / total_students_per_school) * 100\n",
    "percentage_passing_reading_score_per_school"
   ]
  },
  {
   "cell_type": "code",
   "execution_count": 36,
   "metadata": {},
   "outputs": [
    {
     "data": {
      "text/plain": [
       "school_name\n",
       "Bailey High School       54.642283\n",
       "Cabrera High School      91.334769\n",
       "Figueroa High School     53.204476\n",
       "Ford High School         54.289887\n",
       "Griffin High School      90.599455\n",
       "Hernandez High School    53.527508\n",
       "Holden High School       89.227166\n",
       "Huang High School        53.513884\n",
       "Johnson High School      53.539172\n",
       "Pena High School         90.540541\n",
       "Rodriguez High School    52.988247\n",
       "Shelton High School      89.892107\n",
       "Thomas High School       90.948012\n",
       "Wilson High School       90.582567\n",
       "Wright High School       90.333333\n",
       "dtype: float64"
      ]
     },
     "execution_count": 36,
     "metadata": {},
     "output_type": "execute_result"
    }
   ],
   "source": [
    "# Using the school_data_left_join DataFrame, calculate the percentage of students who passed math and reading (% Overall Passing) at each school\n",
    "overall_passing_score_per_school = school_data_left_join[(school_data_left_join['math_score'] >= 70) & (school_data_left_join['reading_score'] >= 70)].groupby('school_name')['student_name'].count()\n",
    "percentage_overall_passing_score_per_school = (overall_passing_score_per_school / total_students_per_school) * 100\n",
    "percentage_overall_passing_score_per_school"
   ]
  },
  {
   "cell_type": "code",
   "execution_count": 37,
   "metadata": {},
   "outputs": [
    {
     "data": {
      "text/html": [
       "<div>\n",
       "<style scoped>\n",
       "    .dataframe tbody tr th:only-of-type {\n",
       "        vertical-align: middle;\n",
       "    }\n",
       "\n",
       "    .dataframe tbody tr th {\n",
       "        vertical-align: top;\n",
       "    }\n",
       "\n",
       "    .dataframe thead th {\n",
       "        text-align: right;\n",
       "    }\n",
       "</style>\n",
       "<table border=\"1\" class=\"dataframe\">\n",
       "  <thead>\n",
       "    <tr style=\"text-align: right;\">\n",
       "      <th></th>\n",
       "      <th>Total Students</th>\n",
       "      <th>Total School Budget</th>\n",
       "      <th>Per Student Budget</th>\n",
       "      <th>Average Math Score</th>\n",
       "      <th>Average Reading Score</th>\n",
       "      <th>% Passing Math</th>\n",
       "      <th>% Passing Reading</th>\n",
       "      <th>% Overall Passing</th>\n",
       "    </tr>\n",
       "    <tr>\n",
       "      <th>school_name</th>\n",
       "      <th></th>\n",
       "      <th></th>\n",
       "      <th></th>\n",
       "      <th></th>\n",
       "      <th></th>\n",
       "      <th></th>\n",
       "      <th></th>\n",
       "      <th></th>\n",
       "    </tr>\n",
       "  </thead>\n",
       "  <tbody>\n",
       "    <tr>\n",
       "      <th>Bailey High School</th>\n",
       "      <td>4976</td>\n",
       "      <td>$3,124,928.00</td>\n",
       "      <td>$628.00</td>\n",
       "      <td>77.05%</td>\n",
       "      <td>81.03%</td>\n",
       "      <td>66.68%</td>\n",
       "      <td>81.93%</td>\n",
       "      <td>54.64%</td>\n",
       "    </tr>\n",
       "    <tr>\n",
       "      <th>Cabrera High School</th>\n",
       "      <td>1858</td>\n",
       "      <td>$1,081,356.00</td>\n",
       "      <td>$582.00</td>\n",
       "      <td>83.06%</td>\n",
       "      <td>83.98%</td>\n",
       "      <td>94.13%</td>\n",
       "      <td>97.04%</td>\n",
       "      <td>91.33%</td>\n",
       "    </tr>\n",
       "    <tr>\n",
       "      <th>Figueroa High School</th>\n",
       "      <td>2949</td>\n",
       "      <td>$1,884,411.00</td>\n",
       "      <td>$639.00</td>\n",
       "      <td>76.71%</td>\n",
       "      <td>81.16%</td>\n",
       "      <td>65.99%</td>\n",
       "      <td>80.74%</td>\n",
       "      <td>53.20%</td>\n",
       "    </tr>\n",
       "    <tr>\n",
       "      <th>Ford High School</th>\n",
       "      <td>2739</td>\n",
       "      <td>$1,763,916.00</td>\n",
       "      <td>$644.00</td>\n",
       "      <td>77.10%</td>\n",
       "      <td>80.75%</td>\n",
       "      <td>68.31%</td>\n",
       "      <td>79.30%</td>\n",
       "      <td>54.29%</td>\n",
       "    </tr>\n",
       "    <tr>\n",
       "      <th>Griffin High School</th>\n",
       "      <td>1468</td>\n",
       "      <td>$917,500.00</td>\n",
       "      <td>$625.00</td>\n",
       "      <td>83.35%</td>\n",
       "      <td>83.82%</td>\n",
       "      <td>93.39%</td>\n",
       "      <td>97.14%</td>\n",
       "      <td>90.60%</td>\n",
       "    </tr>\n",
       "    <tr>\n",
       "      <th>Hernandez High School</th>\n",
       "      <td>4635</td>\n",
       "      <td>$3,022,020.00</td>\n",
       "      <td>$652.00</td>\n",
       "      <td>77.29%</td>\n",
       "      <td>80.93%</td>\n",
       "      <td>66.75%</td>\n",
       "      <td>80.86%</td>\n",
       "      <td>53.53%</td>\n",
       "    </tr>\n",
       "    <tr>\n",
       "      <th>Holden High School</th>\n",
       "      <td>427</td>\n",
       "      <td>$248,087.00</td>\n",
       "      <td>$581.00</td>\n",
       "      <td>83.80%</td>\n",
       "      <td>83.81%</td>\n",
       "      <td>92.51%</td>\n",
       "      <td>96.25%</td>\n",
       "      <td>89.23%</td>\n",
       "    </tr>\n",
       "    <tr>\n",
       "      <th>Huang High School</th>\n",
       "      <td>2917</td>\n",
       "      <td>$1,910,635.00</td>\n",
       "      <td>$655.00</td>\n",
       "      <td>76.63%</td>\n",
       "      <td>81.18%</td>\n",
       "      <td>65.68%</td>\n",
       "      <td>81.32%</td>\n",
       "      <td>53.51%</td>\n",
       "    </tr>\n",
       "    <tr>\n",
       "      <th>Johnson High School</th>\n",
       "      <td>4761</td>\n",
       "      <td>$3,094,650.00</td>\n",
       "      <td>$650.00</td>\n",
       "      <td>77.07%</td>\n",
       "      <td>80.97%</td>\n",
       "      <td>66.06%</td>\n",
       "      <td>81.22%</td>\n",
       "      <td>53.54%</td>\n",
       "    </tr>\n",
       "    <tr>\n",
       "      <th>Pena High School</th>\n",
       "      <td>962</td>\n",
       "      <td>$585,858.00</td>\n",
       "      <td>$609.00</td>\n",
       "      <td>83.84%</td>\n",
       "      <td>84.04%</td>\n",
       "      <td>94.59%</td>\n",
       "      <td>95.95%</td>\n",
       "      <td>90.54%</td>\n",
       "    </tr>\n",
       "    <tr>\n",
       "      <th>Rodriguez High School</th>\n",
       "      <td>3999</td>\n",
       "      <td>$2,547,363.00</td>\n",
       "      <td>$637.00</td>\n",
       "      <td>76.84%</td>\n",
       "      <td>80.74%</td>\n",
       "      <td>66.37%</td>\n",
       "      <td>80.22%</td>\n",
       "      <td>52.99%</td>\n",
       "    </tr>\n",
       "    <tr>\n",
       "      <th>Shelton High School</th>\n",
       "      <td>1761</td>\n",
       "      <td>$1,056,600.00</td>\n",
       "      <td>$600.00</td>\n",
       "      <td>83.36%</td>\n",
       "      <td>83.73%</td>\n",
       "      <td>93.87%</td>\n",
       "      <td>95.85%</td>\n",
       "      <td>89.89%</td>\n",
       "    </tr>\n",
       "    <tr>\n",
       "      <th>Thomas High School</th>\n",
       "      <td>1635</td>\n",
       "      <td>$1,043,130.00</td>\n",
       "      <td>$638.00</td>\n",
       "      <td>83.42%</td>\n",
       "      <td>83.85%</td>\n",
       "      <td>93.27%</td>\n",
       "      <td>97.31%</td>\n",
       "      <td>90.95%</td>\n",
       "    </tr>\n",
       "    <tr>\n",
       "      <th>Wilson High School</th>\n",
       "      <td>2283</td>\n",
       "      <td>$1,319,574.00</td>\n",
       "      <td>$578.00</td>\n",
       "      <td>83.27%</td>\n",
       "      <td>83.99%</td>\n",
       "      <td>93.87%</td>\n",
       "      <td>96.54%</td>\n",
       "      <td>90.58%</td>\n",
       "    </tr>\n",
       "    <tr>\n",
       "      <th>Wright High School</th>\n",
       "      <td>1800</td>\n",
       "      <td>$1,049,400.00</td>\n",
       "      <td>$583.00</td>\n",
       "      <td>83.68%</td>\n",
       "      <td>83.95%</td>\n",
       "      <td>93.33%</td>\n",
       "      <td>96.61%</td>\n",
       "      <td>90.33%</td>\n",
       "    </tr>\n",
       "  </tbody>\n",
       "</table>\n",
       "</div>"
      ],
      "text/plain": [
       "                       Total Students Total School Budget Per Student Budget  \\\n",
       "school_name                                                                    \n",
       "Bailey High School               4976       $3,124,928.00            $628.00   \n",
       "Cabrera High School              1858       $1,081,356.00            $582.00   \n",
       "Figueroa High School             2949       $1,884,411.00            $639.00   \n",
       "Ford High School                 2739       $1,763,916.00            $644.00   \n",
       "Griffin High School              1468         $917,500.00            $625.00   \n",
       "Hernandez High School            4635       $3,022,020.00            $652.00   \n",
       "Holden High School                427         $248,087.00            $581.00   \n",
       "Huang High School                2917       $1,910,635.00            $655.00   \n",
       "Johnson High School              4761       $3,094,650.00            $650.00   \n",
       "Pena High School                  962         $585,858.00            $609.00   \n",
       "Rodriguez High School            3999       $2,547,363.00            $637.00   \n",
       "Shelton High School              1761       $1,056,600.00            $600.00   \n",
       "Thomas High School               1635       $1,043,130.00            $638.00   \n",
       "Wilson High School               2283       $1,319,574.00            $578.00   \n",
       "Wright High School               1800       $1,049,400.00            $583.00   \n",
       "\n",
       "                      Average Math Score Average Reading Score % Passing Math  \\\n",
       "school_name                                                                     \n",
       "Bailey High School                77.05%                81.03%         66.68%   \n",
       "Cabrera High School               83.06%                83.98%         94.13%   \n",
       "Figueroa High School              76.71%                81.16%         65.99%   \n",
       "Ford High School                  77.10%                80.75%         68.31%   \n",
       "Griffin High School               83.35%                83.82%         93.39%   \n",
       "Hernandez High School             77.29%                80.93%         66.75%   \n",
       "Holden High School                83.80%                83.81%         92.51%   \n",
       "Huang High School                 76.63%                81.18%         65.68%   \n",
       "Johnson High School               77.07%                80.97%         66.06%   \n",
       "Pena High School                  83.84%                84.04%         94.59%   \n",
       "Rodriguez High School             76.84%                80.74%         66.37%   \n",
       "Shelton High School               83.36%                83.73%         93.87%   \n",
       "Thomas High School                83.42%                83.85%         93.27%   \n",
       "Wilson High School                83.27%                83.99%         93.87%   \n",
       "Wright High School                83.68%                83.95%         93.33%   \n",
       "\n",
       "                      % Passing Reading % Overall Passing  \n",
       "school_name                                                \n",
       "Bailey High School               81.93%            54.64%  \n",
       "Cabrera High School              97.04%            91.33%  \n",
       "Figueroa High School             80.74%            53.20%  \n",
       "Ford High School                 79.30%            54.29%  \n",
       "Griffin High School              97.14%            90.60%  \n",
       "Hernandez High School            80.86%            53.53%  \n",
       "Holden High School               96.25%            89.23%  \n",
       "Huang High School                81.32%            53.51%  \n",
       "Johnson High School              81.22%            53.54%  \n",
       "Pena High School                 95.95%            90.54%  \n",
       "Rodriguez High School            80.22%            52.99%  \n",
       "Shelton High School              95.85%            89.89%  \n",
       "Thomas High School               97.31%            90.95%  \n",
       "Wilson High School               96.54%            90.58%  \n",
       "Wright High School               96.61%            90.33%  "
      ]
     },
     "execution_count": 37,
     "metadata": {},
     "output_type": "execute_result"
    }
   ],
   "source": [
    "# Create a DataFrame to hold the above results and format the data indexing by school_name and format the data\n",
    "school_summary = pd.DataFrame({\n",
    "    'Total Students': total_students_per_school,\n",
    "    'Total School Budget': total_budget_per_school,\n",
    "    'Per Student Budget': budget_per_student,\n",
    "    'Average Math Score': average_math_score_per_school,\n",
    "    'Average Reading Score': average_reading_score_per_school,\n",
    "    '% Passing Math': percentage_passing_math_score_per_school,\n",
    "    '% Passing Reading': percentage_passing_reading_score_per_school,\n",
    "    '% Overall Passing': percentage_overall_passing_score_per_school\n",
    "})\n",
    "school_summary['Total School Budget'] = school_summary['Total School Budget'].map('${:,.2f}'.format)\n",
    "school_summary['Per Student Budget'] = school_summary['Per Student Budget'].map('${:,.2f}'.format)\n",
    "school_summary['Average Math Score'] = school_summary['Average Math Score'].map('{:.2f}%'.format)\n",
    "school_summary['Average Reading Score'] = school_summary['Average Reading Score'].map('{:.2f}%'.format)\n",
    "school_summary['% Passing Math'] = school_summary['% Passing Math'].map('{:.2f}%'.format)\n",
    "school_summary['% Passing Reading'] = school_summary['% Passing Reading'].map('{:.2f}%'.format)\n",
    "school_summary['% Overall Passing'] = school_summary['% Overall Passing'].map('{:.2f}%'.format)\n",
    "school_summary\n"
   ]
  },
  {
   "cell_type": "code",
   "execution_count": 38,
   "metadata": {},
   "outputs": [
    {
     "name": "stdout",
     "output_type": "stream",
     "text": [
      "Directory exists: c:\\Users\\Jon\\OneDrive\\githubRepo\\pandas-challenge\\PyCitySchools\\analysis\n"
     ]
    }
   ],
   "source": [
    "import os\n",
    "\n",
    "# Define the home directory\n",
    "home_dir = os.getcwd()\n",
    "\n",
    "# Define the subdirectory to save the output file\n",
    "analysis_dir = os.path.join(home_dir, \"analysis\")\n",
    "\n",
    "# Ensure the directory exists before writing the output file\n",
    "if os.path.exists(analysis_dir) and os.path.isdir(analysis_dir):\n",
    "    print(f\"Directory exists: {analysis_dir}\")\n",
    "else:\n",
    "    print(f\"Directory does not exist: {analysis_dir}\")"
   ]
  },
  {
   "cell_type": "code",
   "execution_count": 39,
   "metadata": {},
   "outputs": [
    {
     "name": "stdout",
     "output_type": "stream",
     "text": [
      "Output file path: c:\\Users\\Jon\\OneDrive\\githubRepo\\pandas-challenge\\PyCitySchools\\analysis\\school_summary.csv\n"
     ]
    }
   ],
   "source": [
    "# Define the name of the output file\n",
    "output_file_ss = \"school_summary.csv\"\n",
    "\n",
    "# Combine the directory and file name to create the full path\n",
    "output_file_path_ss = os.path.join(analysis_dir, output_file_ss)\n",
    "\n",
    "# Display the full output file path\n",
    "print(f\"Output file path: {output_file_path_ss}\")"
   ]
  },
  {
   "cell_type": "code",
   "execution_count": 40,
   "metadata": {},
   "outputs": [
    {
     "name": "stdout",
     "output_type": "stream",
     "text": [
      "Output file created: c:\\Users\\Jon\\OneDrive\\githubRepo\\pandas-challenge\\PyCitySchools\\analysis\\school_summary.csv\n"
     ]
    }
   ],
   "source": [
    "# Save the schoool summary DataFrame to a CSV file\n",
    "school_summary.to_csv(output_file_path_ss, index=False)\n",
    "\n",
    "# Ensure the output file was created\n",
    "if os.path.exists(output_file_path_ss) and os.path.isfile(output_file_path_ss):\n",
    "    print(f\"Output file created: {output_file_path_ss}\")"
   ]
  },
  {
   "cell_type": "code",
   "execution_count": 41,
   "metadata": {},
   "outputs": [
    {
     "data": {
      "text/html": [
       "<div>\n",
       "<style scoped>\n",
       "    .dataframe tbody tr th:only-of-type {\n",
       "        vertical-align: middle;\n",
       "    }\n",
       "\n",
       "    .dataframe tbody tr th {\n",
       "        vertical-align: top;\n",
       "    }\n",
       "\n",
       "    .dataframe thead th {\n",
       "        text-align: right;\n",
       "    }\n",
       "</style>\n",
       "<table border=\"1\" class=\"dataframe\">\n",
       "  <thead>\n",
       "    <tr style=\"text-align: right;\">\n",
       "      <th></th>\n",
       "      <th>Total Students</th>\n",
       "      <th>Total School Budget</th>\n",
       "      <th>Per Student Budget</th>\n",
       "      <th>Average Math Score</th>\n",
       "      <th>Average Reading Score</th>\n",
       "      <th>% Passing Math</th>\n",
       "      <th>% Passing Reading</th>\n",
       "      <th>% Overall Passing</th>\n",
       "    </tr>\n",
       "    <tr>\n",
       "      <th>school_name</th>\n",
       "      <th></th>\n",
       "      <th></th>\n",
       "      <th></th>\n",
       "      <th></th>\n",
       "      <th></th>\n",
       "      <th></th>\n",
       "      <th></th>\n",
       "      <th></th>\n",
       "    </tr>\n",
       "  </thead>\n",
       "  <tbody>\n",
       "    <tr>\n",
       "      <th>Cabrera High School</th>\n",
       "      <td>1858</td>\n",
       "      <td>$1,081,356.00</td>\n",
       "      <td>$582.00</td>\n",
       "      <td>83.06%</td>\n",
       "      <td>83.98%</td>\n",
       "      <td>94.13%</td>\n",
       "      <td>97.04%</td>\n",
       "      <td>91.33%</td>\n",
       "    </tr>\n",
       "    <tr>\n",
       "      <th>Thomas High School</th>\n",
       "      <td>1635</td>\n",
       "      <td>$1,043,130.00</td>\n",
       "      <td>$638.00</td>\n",
       "      <td>83.42%</td>\n",
       "      <td>83.85%</td>\n",
       "      <td>93.27%</td>\n",
       "      <td>97.31%</td>\n",
       "      <td>90.95%</td>\n",
       "    </tr>\n",
       "    <tr>\n",
       "      <th>Griffin High School</th>\n",
       "      <td>1468</td>\n",
       "      <td>$917,500.00</td>\n",
       "      <td>$625.00</td>\n",
       "      <td>83.35%</td>\n",
       "      <td>83.82%</td>\n",
       "      <td>93.39%</td>\n",
       "      <td>97.14%</td>\n",
       "      <td>90.60%</td>\n",
       "    </tr>\n",
       "    <tr>\n",
       "      <th>Wilson High School</th>\n",
       "      <td>2283</td>\n",
       "      <td>$1,319,574.00</td>\n",
       "      <td>$578.00</td>\n",
       "      <td>83.27%</td>\n",
       "      <td>83.99%</td>\n",
       "      <td>93.87%</td>\n",
       "      <td>96.54%</td>\n",
       "      <td>90.58%</td>\n",
       "    </tr>\n",
       "    <tr>\n",
       "      <th>Pena High School</th>\n",
       "      <td>962</td>\n",
       "      <td>$585,858.00</td>\n",
       "      <td>$609.00</td>\n",
       "      <td>83.84%</td>\n",
       "      <td>84.04%</td>\n",
       "      <td>94.59%</td>\n",
       "      <td>95.95%</td>\n",
       "      <td>90.54%</td>\n",
       "    </tr>\n",
       "  </tbody>\n",
       "</table>\n",
       "</div>"
      ],
      "text/plain": [
       "                     Total Students Total School Budget Per Student Budget  \\\n",
       "school_name                                                                  \n",
       "Cabrera High School            1858       $1,081,356.00            $582.00   \n",
       "Thomas High School             1635       $1,043,130.00            $638.00   \n",
       "Griffin High School            1468         $917,500.00            $625.00   \n",
       "Wilson High School             2283       $1,319,574.00            $578.00   \n",
       "Pena High School                962         $585,858.00            $609.00   \n",
       "\n",
       "                    Average Math Score Average Reading Score % Passing Math  \\\n",
       "school_name                                                                   \n",
       "Cabrera High School             83.06%                83.98%         94.13%   \n",
       "Thomas High School              83.42%                83.85%         93.27%   \n",
       "Griffin High School             83.35%                83.82%         93.39%   \n",
       "Wilson High School              83.27%                83.99%         93.87%   \n",
       "Pena High School                83.84%                84.04%         94.59%   \n",
       "\n",
       "                    % Passing Reading % Overall Passing  \n",
       "school_name                                              \n",
       "Cabrera High School            97.04%            91.33%  \n",
       "Thomas High School             97.31%            90.95%  \n",
       "Griffin High School            97.14%            90.60%  \n",
       "Wilson High School             96.54%            90.58%  \n",
       "Pena High School               95.95%            90.54%  "
      ]
     },
     "execution_count": 41,
     "metadata": {},
     "output_type": "execute_result"
    }
   ],
   "source": [
    "# Create new DataFrame for the top 5 performing schools based on % Overall Passing\n",
    "top_schools = school_summary.sort_values('% Overall Passing', ascending=False).head(5)\n",
    "top_schools"
   ]
  },
  {
   "cell_type": "code",
   "execution_count": 42,
   "metadata": {},
   "outputs": [
    {
     "name": "stdout",
     "output_type": "stream",
     "text": [
      "Directory exists: c:\\Users\\Jon\\OneDrive\\githubRepo\\pandas-challenge\\PyCitySchools\\analysis\n"
     ]
    }
   ],
   "source": [
    "import os\n",
    "\n",
    "# Define the home directory\n",
    "home_dir = os.getcwd()\n",
    "\n",
    "# Define the subdirectory to save the output file\n",
    "analysis_dir = os.path.join(home_dir, \"analysis\")\n",
    "\n",
    "# Ensure the directory exists before writing the output file\n",
    "if os.path.exists(analysis_dir) and os.path.isdir(analysis_dir):\n",
    "    print(f\"Directory exists: {analysis_dir}\")\n",
    "else:\n",
    "    print(f\"Directory does not exist: {analysis_dir}\")"
   ]
  },
  {
   "cell_type": "code",
   "execution_count": 43,
   "metadata": {},
   "outputs": [
    {
     "name": "stdout",
     "output_type": "stream",
     "text": [
      "Output file path: c:\\Users\\Jon\\OneDrive\\githubRepo\\pandas-challenge\\PyCitySchools\\analysis\\top_schools.csv\n"
     ]
    }
   ],
   "source": [
    "# Define the name of the output file\n",
    "output_file_ts = \"top_schools.csv\"\n",
    "\n",
    "# Combine the directory and file name to create the full path\n",
    "output_file_path_ts = os.path.join(analysis_dir, output_file_ts)\n",
    "\n",
    "# Display the full output file path\n",
    "print(f\"Output file path: {output_file_path_ts}\")"
   ]
  },
  {
   "cell_type": "code",
   "execution_count": 44,
   "metadata": {},
   "outputs": [
    {
     "name": "stdout",
     "output_type": "stream",
     "text": [
      "Output file created: c:\\Users\\Jon\\OneDrive\\githubRepo\\pandas-challenge\\PyCitySchools\\analysis\\top_schools.csv\n"
     ]
    }
   ],
   "source": [
    "# Save the top schools DataFrame to a CSV file\n",
    "top_schools.to_csv(output_file_path_ts, index=False)\n",
    "\n",
    "# Ensure the output file was created\n",
    "if os.path.exists(output_file_path_ts) and os.path.isfile(output_file_path_ts):\n",
    "    print(f\"Output file created: {output_file_path_ts}\")"
   ]
  },
  {
   "cell_type": "code",
   "execution_count": 45,
   "metadata": {},
   "outputs": [
    {
     "data": {
      "text/html": [
       "<div>\n",
       "<style scoped>\n",
       "    .dataframe tbody tr th:only-of-type {\n",
       "        vertical-align: middle;\n",
       "    }\n",
       "\n",
       "    .dataframe tbody tr th {\n",
       "        vertical-align: top;\n",
       "    }\n",
       "\n",
       "    .dataframe thead th {\n",
       "        text-align: right;\n",
       "    }\n",
       "</style>\n",
       "<table border=\"1\" class=\"dataframe\">\n",
       "  <thead>\n",
       "    <tr style=\"text-align: right;\">\n",
       "      <th></th>\n",
       "      <th>Total Students</th>\n",
       "      <th>Total School Budget</th>\n",
       "      <th>Per Student Budget</th>\n",
       "      <th>Average Math Score</th>\n",
       "      <th>Average Reading Score</th>\n",
       "      <th>% Passing Math</th>\n",
       "      <th>% Passing Reading</th>\n",
       "      <th>% Overall Passing</th>\n",
       "    </tr>\n",
       "    <tr>\n",
       "      <th>school_name</th>\n",
       "      <th></th>\n",
       "      <th></th>\n",
       "      <th></th>\n",
       "      <th></th>\n",
       "      <th></th>\n",
       "      <th></th>\n",
       "      <th></th>\n",
       "      <th></th>\n",
       "    </tr>\n",
       "  </thead>\n",
       "  <tbody>\n",
       "    <tr>\n",
       "      <th>Rodriguez High School</th>\n",
       "      <td>3999</td>\n",
       "      <td>$2,547,363.00</td>\n",
       "      <td>$637.00</td>\n",
       "      <td>76.84%</td>\n",
       "      <td>80.74%</td>\n",
       "      <td>66.37%</td>\n",
       "      <td>80.22%</td>\n",
       "      <td>52.99%</td>\n",
       "    </tr>\n",
       "    <tr>\n",
       "      <th>Figueroa High School</th>\n",
       "      <td>2949</td>\n",
       "      <td>$1,884,411.00</td>\n",
       "      <td>$639.00</td>\n",
       "      <td>76.71%</td>\n",
       "      <td>81.16%</td>\n",
       "      <td>65.99%</td>\n",
       "      <td>80.74%</td>\n",
       "      <td>53.20%</td>\n",
       "    </tr>\n",
       "    <tr>\n",
       "      <th>Huang High School</th>\n",
       "      <td>2917</td>\n",
       "      <td>$1,910,635.00</td>\n",
       "      <td>$655.00</td>\n",
       "      <td>76.63%</td>\n",
       "      <td>81.18%</td>\n",
       "      <td>65.68%</td>\n",
       "      <td>81.32%</td>\n",
       "      <td>53.51%</td>\n",
       "    </tr>\n",
       "    <tr>\n",
       "      <th>Hernandez High School</th>\n",
       "      <td>4635</td>\n",
       "      <td>$3,022,020.00</td>\n",
       "      <td>$652.00</td>\n",
       "      <td>77.29%</td>\n",
       "      <td>80.93%</td>\n",
       "      <td>66.75%</td>\n",
       "      <td>80.86%</td>\n",
       "      <td>53.53%</td>\n",
       "    </tr>\n",
       "    <tr>\n",
       "      <th>Johnson High School</th>\n",
       "      <td>4761</td>\n",
       "      <td>$3,094,650.00</td>\n",
       "      <td>$650.00</td>\n",
       "      <td>77.07%</td>\n",
       "      <td>80.97%</td>\n",
       "      <td>66.06%</td>\n",
       "      <td>81.22%</td>\n",
       "      <td>53.54%</td>\n",
       "    </tr>\n",
       "  </tbody>\n",
       "</table>\n",
       "</div>"
      ],
      "text/plain": [
       "                       Total Students Total School Budget Per Student Budget  \\\n",
       "school_name                                                                    \n",
       "Rodriguez High School            3999       $2,547,363.00            $637.00   \n",
       "Figueroa High School             2949       $1,884,411.00            $639.00   \n",
       "Huang High School                2917       $1,910,635.00            $655.00   \n",
       "Hernandez High School            4635       $3,022,020.00            $652.00   \n",
       "Johnson High School              4761       $3,094,650.00            $650.00   \n",
       "\n",
       "                      Average Math Score Average Reading Score % Passing Math  \\\n",
       "school_name                                                                     \n",
       "Rodriguez High School             76.84%                80.74%         66.37%   \n",
       "Figueroa High School              76.71%                81.16%         65.99%   \n",
       "Huang High School                 76.63%                81.18%         65.68%   \n",
       "Hernandez High School             77.29%                80.93%         66.75%   \n",
       "Johnson High School               77.07%                80.97%         66.06%   \n",
       "\n",
       "                      % Passing Reading % Overall Passing  \n",
       "school_name                                                \n",
       "Rodriguez High School            80.22%            52.99%  \n",
       "Figueroa High School             80.74%            53.20%  \n",
       "Huang High School                81.32%            53.51%  \n",
       "Hernandez High School            80.86%            53.53%  \n",
       "Johnson High School              81.22%            53.54%  "
      ]
     },
     "execution_count": 45,
     "metadata": {},
     "output_type": "execute_result"
    }
   ],
   "source": [
    "# Create new DataFrame for the bottom 5 performing schools based on % Overall Passing\n",
    "bottom_schools = school_summary.sort_values('% Overall Passing', ascending=True).head(5)\n",
    "bottom_schools"
   ]
  },
  {
   "cell_type": "code",
   "execution_count": 46,
   "metadata": {},
   "outputs": [
    {
     "name": "stdout",
     "output_type": "stream",
     "text": [
      "Directory exists: c:\\Users\\Jon\\OneDrive\\githubRepo\\pandas-challenge\\PyCitySchools\\analysis\n"
     ]
    }
   ],
   "source": [
    "import os\n",
    "\n",
    "# Define the home directory\n",
    "home_dir = os.getcwd()\n",
    "\n",
    "# Define the subdirectory to save the output file\n",
    "analysis_dir = os.path.join(home_dir, \"analysis\")\n",
    "\n",
    "# Ensure the directory exists before writing the output file\n",
    "if os.path.exists(analysis_dir) and os.path.isdir(analysis_dir):\n",
    "    print(f\"Directory exists: {analysis_dir}\")\n",
    "else:\n",
    "    print(f\"Directory does not exist: {analysis_dir}\")"
   ]
  },
  {
   "cell_type": "code",
   "execution_count": 47,
   "metadata": {},
   "outputs": [
    {
     "name": "stdout",
     "output_type": "stream",
     "text": [
      "Output file path: c:\\Users\\Jon\\OneDrive\\githubRepo\\pandas-challenge\\PyCitySchools\\analysis\\bottom_schools.csv\n"
     ]
    }
   ],
   "source": [
    "# Define the name of the output file\n",
    "output_file_bs = \"bottom_schools.csv\"\n",
    "\n",
    "# Combine the directory and file name to create the full path\n",
    "output_file_path_bs = os.path.join(analysis_dir, output_file_bs)\n",
    "\n",
    "# Display the full output file path\n",
    "print(f\"Output file path: {output_file_path_bs}\")"
   ]
  },
  {
   "cell_type": "code",
   "execution_count": 48,
   "metadata": {},
   "outputs": [
    {
     "name": "stdout",
     "output_type": "stream",
     "text": [
      "Output file created: c:\\Users\\Jon\\OneDrive\\githubRepo\\pandas-challenge\\PyCitySchools\\analysis\\bottom_schools.csv\n"
     ]
    }
   ],
   "source": [
    "# Save the bottom schools DataFrame to a CSV file\n",
    "bottom_schools.to_csv(output_file_path_bs, index=False)\n",
    "\n",
    "# Ensure the output file was created\n",
    "if os.path.exists(output_file_path_bs) and os.path.isfile(output_file_path_bs):\n",
    "    print(f\"Output file created: {output_file_path_bs}\")"
   ]
  }
 ],
 "metadata": {
  "kernelspec": {
   "display_name": "base",
   "language": "python",
   "name": "python3"
  },
  "language_info": {
   "codemirror_mode": {
    "name": "ipython",
    "version": 3
   },
   "file_extension": ".py",
   "mimetype": "text/x-python",
   "name": "python",
   "nbconvert_exporter": "python",
   "pygments_lexer": "ipython3",
   "version": "3.11.7"
  }
 },
 "nbformat": 4,
 "nbformat_minor": 2
}
